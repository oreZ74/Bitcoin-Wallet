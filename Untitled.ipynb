{
 "cells": [
  {
   "cell_type": "markdown",
   "id": "f292235c",
   "metadata": {},
   "source": [
    "<h1>Projekt: Bitcoin-Wallet</h1>\n",
    "<br>\n",
    "<h2>Erstellen der Wallet</h2>\n",
    "<h3>Privat-Key: (needs edit)<br></h3>\n",
    "<p>\n",
    "Der private Schlüssel ist ein wichtiger Bestandteil des asymmetrischen Kryptosystems, das von ECDSA und anderen Kryptographie-Algorithmen verwendet wird. Der private Schlüssel wird verwendet, um digitale Signaturen zu erstellen und zu signieren, die zur Überprüfung der Echtheit und Integrität von Daten verwendet werden können.\n",
    "\n",
    "In einem asymmetrischen Kryptosystem wird jeder Benutzer mit einem öffentlichen und einem privaten Schlüssel ausgestattet. Der private Schlüssel ist geheim und darf niemals an Dritte weitergegeben werden, während der öffentliche Schlüssel frei zugänglich ist. Die öffentlichen Schlüssel werden verwendet, um Daten zu verschlüsseln und digitale Signaturen zu überprüfen.\n",
    "\n",
    "Wenn Sie eine digitale Signatur erstellen möchten, verwenden Sie Ihren privaten Schlüssel, um den Hashwert des zu signierenden Dokuments zu verschlüsseln. Die digitale Signatur wird zusammen mit dem Dokument weitergegeben, und der Empfänger verwendet den öffentlichen Schlüssel, um die Signatur zu entschlüsseln und die Echtheit des Dokuments zu überprüfen.\n",
    "\n",
    "Daher ist der private Schlüssel ein sehr wichtiger Bestandteil des asymmetrischen Kryptosystems und sollte nur von autorisierten Personen verwendet und sicher aufbewahrt werden.\n",
    "</p>\n",
    "<h4>Beispiel:<br></h4>"
   ]
  },
  {
   "cell_type": "code",
   "execution_count": 1,
   "id": "02239d00",
   "metadata": {
    "scrolled": true
   },
   "outputs": [
    {
     "name": "stdout",
     "output_type": "stream",
     "text": [
      "ECDSA PrivatKey:\n",
      " 9de2d0e70bbbee15969e5c671a34f84a41bf9f8bc29813936a19df10cf3da267\n"
     ]
    }
   ],
   "source": [
    "#!/usr/bin/env python3\n",
    "\n",
    "import ecdsa\n",
    "import hashlib\n",
    "import binascii\n",
    "import base58\n",
    "\n",
    "ecdsaPrivateKey = ecdsa.SigningKey.generate(curve=ecdsa.SECP256k1)\n",
    "print(\"ECDSA PrivatKey:\\n\", ecdsaPrivateKey.to_string().hex())\n"
   ]
  },
  {
   "cell_type": "markdown",
   "id": "744ebd17",
   "metadata": {},
   "source": [
    "<h3>Public-Key: (needs edit)<br></h3>\n",
    "<p>\n",
    "In Bitcoin wird der öffentliche Schlüssel verwendet, um Bitcoin-Adressen zu erzeugen, die zum Empfangen von Bitcoin-Transaktionen verwendet werden. Ein Bitcoin-Adresse ist eine lange Zeichenkette, die den öffentlichen Schlüssel in einer bestimmten Art und Weise codiert und als Empfangsadresse dient.\n",
    "\n",
    "Jeder Bitcoin-Benutzer hat einen öffentlichen Schlüssel und einen dazugehörigen privaten Schlüssel. Wenn ein Benutzer eine Bitcoin-Transaktion durchführt, verwendet er seinen privaten Schlüssel, um eine digitale Signatur zu erstellen, die die Transaktion authentifiziert und den Betrag bestätigt. Diese digitale Signatur wird dann mit dem öffentlichen Schlüssel des Benutzers verknüpft und als Teil der Transaktion an das Bitcoin-Netzwerk gesendet.\n",
    "\n",
    "Die öffentlichen Schlüssel können auch verwendet werden, um die Kontrolle über eine Bitcoin-Adresse zu beweisen. Wenn ein Benutzer eine Bitcoin-Transaktion empfängt, kann er seine öffentlichen Schlüssel verwenden, um zu beweisen, dass er tatsächlich der Empfänger ist und das Recht hat, die empfangenen Bitcoins zu verwenden.\n",
    "</p>\n",
    "<h4>Beispiel:</h4>"
   ]
  },
  {
   "cell_type": "code",
   "execution_count": 2,
   "id": "af143814",
   "metadata": {},
   "outputs": [
    {
     "name": "stdout",
     "output_type": "stream",
     "text": [
      "ECDSA Public Key:\n",
      " 049e1598f51a889f823a68cd2f4cf38a257b850951559b1a0ce50ab2e71a1aba12a922de75e68b706a320f9649e1928ab00d15995647f0a39adf8607fb77c8c92c\n"
     ]
    }
   ],
   "source": [
    "ecdsaPublicKey = '04' + ecdsaPrivateKey.get_verifying_key().to_string().hex()\n",
    "print(\"ECDSA Public Key:\\n\", ecdsaPublicKey)\n"
   ]
  },
  {
   "cell_type": "markdown",
   "id": "abd6fb03",
   "metadata": {},
   "source": [
    "<h3>Hashen des Public-Keys</h3>\n",
    "<p>\n",
    "    bla bla bla\n",
    "</p>\n",
    "<h4>Beispiel:</h4>"
   ]
  },
  {
   "cell_type": "code",
   "execution_count": 3,
   "id": "522be093",
   "metadata": {},
   "outputs": [
    {
     "name": "stdout",
     "output_type": "stream",
     "text": [
      "SHA256(ECDSA Public Key):\n",
      " 22059585e270fc131fe6b11af0c0db86138fa09123f41f74936b8ee1573ca6d7\n"
     ]
    }
   ],
   "source": [
    "hash256FromECDSAPublicKey = hashlib.sha256(binascii.unhexlify(ecdsaPublicKey)).hexdigest()\n",
    "print(\"SHA256(ECDSA Public Key):\\n\", hash256FromECDSAPublicKey)"
   ]
  },
  {
   "cell_type": "markdown",
   "id": "a164d7d9",
   "metadata": {},
   "source": [
    "<h3>Anwenden von RIPEMD-160</h3>\n",
    "<p>\n",
    "    bla bla bla\n",
    "</p>\n",
    "<h4>Beispiel:</h4>"
   ]
  },
  {
   "cell_type": "code",
   "execution_count": 4,
   "id": "12c55593",
   "metadata": {},
   "outputs": [
    {
     "name": "stdout",
     "output_type": "stream",
     "text": [
      "RIDEMP160(SHA256(ECDSA Public Key)):\n",
      " 7def7ab1704e7cd29a55e8d210deac864d974664\n"
     ]
    }
   ],
   "source": [
    "ridemp160FromHash256 = hashlib.new('ripemd160', binascii.unhexlify(hash256FromECDSAPublicKey))\n",
    "print(\"RIDEMP160(SHA256(ECDSA Public Key)):\\n\", ridemp160FromHash256.hexdigest())"
   ]
  },
  {
   "cell_type": "markdown",
   "id": "cb4dc206",
   "metadata": {},
   "source": [
    "<h3>Adress Version Byte (MUSS BEARBEITET WERDEN)</h3>\n"
   ]
  },
  {
   "cell_type": "code",
   "execution_count": 5,
   "id": "25094166",
   "metadata": {},
   "outputs": [
    {
     "name": "stdout",
     "output_type": "stream",
     "text": [
      "Prepend Network Byte to RIDEMP160(SHA256(ECDSA Public Key)):\n",
      " 6f7def7ab1704e7cd29a55e8d210deac864d974664\n"
     ]
    }
   ],
   "source": [
    "prependNetworkByte = '6f' + ridemp160FromHash256.hexdigest()\n",
    "print(\"Prepend Network Byte to RIDEMP160(SHA256(ECDSA Public Key)):\\n\", prependNetworkByte)\n"
   ]
  },
  {
   "cell_type": "code",
   "execution_count": 6,
   "id": "a2499071",
   "metadata": {},
   "outputs": [
    {
     "name": "stdout",
     "output_type": "stream",
     "text": [
      "\t|__>SHA256 # 1  :  7f0c09030a374ea0d7ec3c23ba3dbc6e5a0801733ae77637b8b7a6cff002abfb\n",
      "\t|__>SHA256 # 2  :  5170b0f79998c11ae47070a76cf6cc4c36e7151931d526f2d2fc8a8abe0d718d\n",
      "Checksum(first 4 bytes):  5170b0f7\n",
      "Append Checksum to RIDEMP160(SHA256(ECDSA Public Key)):  6f7def7ab1704e7cd29a55e8d210deac864d9746645170b0f7\n"
     ]
    }
   ],
   "source": [
    "hash = prependNetworkByte\n",
    "for x in range(1,3):\n",
    "    hash = hashlib.sha256(binascii.unhexlify(hash)).hexdigest()\n",
    "    print(\"\\t|__>SHA256 #\", x, \" : \", hash)\n",
    "cheksum = hash[:8]\n",
    "appendChecksum = prependNetworkByte + cheksum\n",
    "print(\"Checksum(first 4 bytes): \", cheksum)\n",
    "print(\"Append Checksum to RIDEMP160(SHA256(ECDSA Public Key)): \", appendChecksum)"
   ]
  },
  {
   "cell_type": "markdown",
   "id": "81ee1429",
   "metadata": {},
   "source": [
    "<h3>Bitcoin Base Encoding</h3>\n"
   ]
  },
  {
   "cell_type": "code",
   "execution_count": 7,
   "id": "2b5784d8",
   "metadata": {},
   "outputs": [
    {
     "name": "stdout",
     "output_type": "stream",
     "text": [
      "BITCOIN PUBLIC ADDRESS:  mrzqeLvB7uPZ2G5ovBQL3AU52qmXmn6xxn\n"
     ]
    }
   ],
   "source": [
    "bitcoinAddress = base58.b58encode(binascii.unhexlify(appendChecksum))\n",
    "print(\"BITCOIN PUBLIC ADDRESS: \", bitcoinAddress.decode('utf8'))"
   ]
  },
  {
   "cell_type": "code",
   "execution_count": null,
   "id": "29ec9ffc",
   "metadata": {},
   "outputs": [],
   "source": []
  }
 ],
 "metadata": {
  "kernelspec": {
   "display_name": "Python 3 (ipykernel)",
   "language": "python",
   "name": "python3"
  },
  "language_info": {
   "codemirror_mode": {
    "name": "ipython",
    "version": 3
   },
   "file_extension": ".py",
   "mimetype": "text/x-python",
   "name": "python",
   "nbconvert_exporter": "python",
   "pygments_lexer": "ipython3",
   "version": "3.10.9"
  }
 },
 "nbformat": 4,
 "nbformat_minor": 5
}
